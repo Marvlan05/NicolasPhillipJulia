{
 "cells": [
  {
   "cell_type": "code",
   "execution_count": 51,
   "id": "35285b56",
   "metadata": {},
   "outputs": [
    {
     "data": {
      "text/plain": [
       "3×3 Matrix{Int64}:\n",
       " 19   4  13\n",
       " 16   5   1\n",
       "  9  18  14"
      ]
     },
     "execution_count": 51,
     "metadata": {},
     "output_type": "execute_result"
    }
   ],
   "source": [
    "#Cipher Matrix\n",
    "A = [19 4 13\n",
    "16 5 1\n",
    "9 18 14]"
   ]
  },
  {
   "cell_type": "code",
   "execution_count": 52,
   "id": "4c5c0faf",
   "metadata": {},
   "outputs": [
    {
     "data": {
      "text/plain": [
       "3×3 Matrix{Int64}:\n",
       " 20  10  16\n",
       " 17  11   3\n",
       "  8  19  21"
      ]
     },
     "execution_count": 52,
     "metadata": {},
     "output_type": "execute_result"
    }
   ],
   "source": [
    "#Original Matrix\n",
    "B = [20 10 16\n",
    "17 11 3\n",
    "8 19 21]"
   ]
  },
  {
   "cell_type": "code",
   "execution_count": 53,
   "id": "1b288ced",
   "metadata": {},
   "outputs": [
    {
     "data": {
      "text/plain": [
       "3×3 Matrix{Int64}:\n",
       " 552  481  589\n",
       " 413  234  292\n",
       " 598  554  492"
      ]
     },
     "execution_count": 53,
     "metadata": {},
     "output_type": "execute_result"
    }
   ],
   "source": [
    "#Scrambeled Matrix\n",
    "C = A*B"
   ]
  },
  {
   "cell_type": "code",
   "execution_count": 54,
   "id": "6a765554",
   "metadata": {},
   "outputs": [
    {
     "data": {
      "text/plain": [
       "3×3 Matrix{Float64}:\n",
       "  0.0158199   0.0541527  -0.018558\n",
       " -0.0654092   0.0453301   0.0574992\n",
       "  0.0739276  -0.093094    0.00943109"
      ]
     },
     "execution_count": 54,
     "metadata": {},
     "output_type": "execute_result"
    }
   ],
   "source": [
    "#Inverse of A\n",
    "Ainv = inv(A)"
   ]
  },
  {
   "cell_type": "code",
   "execution_count": 55,
   "id": "7f84d7da",
   "metadata": {},
   "outputs": [
    {
     "data": {
      "text/plain": [
       "3×3 Matrix{Float64}:\n",
       " 20.0  10.0  16.0\n",
       " 17.0  11.0   3.0\n",
       "  8.0  19.0  21.0"
      ]
     },
     "execution_count": 55,
     "metadata": {},
     "output_type": "execute_result"
    }
   ],
   "source": [
    "Ainv*C"
   ]
  },
  {
   "cell_type": "code",
   "execution_count": null,
   "id": "25e8e3d1",
   "metadata": {},
   "outputs": [],
   "source": [
    "#Letter Key\n",
    "1 = Z, 2 = Y, 3 = A, 4 = B, 5 = T, 6 = G, 7 = H, 8 = I, 9 = C, 10 = D, 11 = E, 12 = F, 13 = J, 14 = K, 15 = L, \n",
    "16 = M, 17 = P, 18 = Q, 19 = R, 20 = S, 21 = N, 22 = O, 23 = X, 24 = W, 25 = V, 26 = U "
   ]
  }
 ],
 "metadata": {
  "kernelspec": {
   "display_name": "Julia nodepsII 1.7.3",
   "language": "julia",
   "name": "julia-nodepsii-1.7"
  },
  "language_info": {
   "file_extension": ".jl",
   "mimetype": "application/julia",
   "name": "julia",
   "version": "1.7.3"
  }
 },
 "nbformat": 4,
 "nbformat_minor": 5
}
