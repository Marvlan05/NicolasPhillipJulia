{
 "cells": [
  {
   "cell_type": "markdown",
   "id": "dc389141",
   "metadata": {},
   "source": [
    "# Plotting with Julia Part 2\n",
    "\n",
    "#### More Ways we can Plot Data\n",
    "- Outline:\n",
    "    - More Plot Types\n",
    "    - Data Frames\n",
    "        \n",
    "https://docs.juliaplots.org/latest/tutorial/\n",
    "\n",
    "https://www.tutorialspoint.com/julia/julia_plotting.htm"
   ]
  },
  {
   "cell_type": "code",
   "execution_count": null,
   "id": "cb9979ae",
   "metadata": {
    "scrolled": true
   },
   "outputs": [],
   "source": [
    "#To start using the Plots package, type the following command \n",
    "\n",
    "using Plots"
   ]
  },
  {
   "cell_type": "markdown",
   "id": "ce5df09c",
   "metadata": {},
   "source": [
    "### Pie Charts: "
   ]
  },
  {
   "cell_type": "code",
   "execution_count": null,
   "id": "f8f3906d",
   "metadata": {
    "scrolled": true
   },
   "outputs": [],
   "source": [
    "X = [\"Monday\", \"Tuesday\", \"Wednesday\", \"Thrusday\", \"Friday\",\"Saturday\",\"Sunday\"];\n",
    "Y = [11, 11, 15, 13, 12, 13, 10]\n",
    " \n",
    "P = pie(X,Y)"
   ]
  },
  {
   "cell_type": "markdown",
   "id": "659fdb70",
   "metadata": {},
   "source": [
    "### Bar/Histograms Charts:"
   ]
  },
  {
   "cell_type": "code",
   "execution_count": null,
   "id": "776d537e",
   "metadata": {
    "scrolled": true
   },
   "outputs": [],
   "source": [
    "X = [\"Nicolas\", \"Nolan\", \"Tyler\", \"Taylor\", \"Sauna\",\"Kaiden\",];\n",
    "Y = [17, 15, 16, 16, 17, 14,]\n",
    "p = bar(X,Y)"
   ]
  },
  {
   "cell_type": "markdown",
   "id": "1ba7a438",
   "metadata": {},
   "source": [
    "### Data Frames\n",
    "DataFrame may be defined as a table or spreadsheet which we can be used to sort as well as explore a set of related data values.\n",
    "\n",
    "https://www.tutorialspoint.com/julia/julia_data_frames.htm"
   ]
  },
  {
   "cell_type": "markdown",
   "id": "0aba01c7",
   "metadata": {},
   "source": [
    "We need to download and install DataFrame packages as follows − Run this code in Julia\n",
    "\n",
    "- pkg> add DataFrames"
   ]
  },
  {
   "cell_type": "code",
   "execution_count": 5,
   "id": "cbdc760a",
   "metadata": {
    "scrolled": true
   },
   "outputs": [],
   "source": [
    "#To start using the DataFrames package, type the following command \n",
    "\n",
    "using DataFrames"
   ]
  },
  {
   "cell_type": "code",
   "execution_count": null,
   "id": "64fc8320",
   "metadata": {
    "scrolled": true
   },
   "outputs": [],
   "source": [
    "#One Way of Making\n",
    "\n",
    "df = DataFrame(X = 1:10, Y = 21:30)"
   ]
  },
  {
   "cell_type": "code",
   "execution_count": null,
   "id": "807a11f6",
   "metadata": {
    "scrolled": true
   },
   "outputs": [],
   "source": [
    "#This way will not work like with plots\n",
    "\n",
    "X = 1:10\n",
    "Y = 21:30\n",
    "df = DataFrame(X, Y)"
   ]
  },
  {
   "cell_type": "code",
   "execution_count": 6,
   "id": "ce284334",
   "metadata": {
    "scrolled": true
   },
   "outputs": [
    {
     "data": {
      "text/html": [
       "<div class=\"data-frame\"><p>1 rows × 3 columns</p><table class=\"data-frame\"><thead><tr><th></th><th>W</th><th>H</th><th>M</th></tr><tr><th></th><th title=\"Float64\">Float64</th><th title=\"Int64\">Int64</th><th title=\"String\">String</th></tr></thead><tbody><tr><th>1</th><td>5.0</td><td>5</td><td>Mike</td></tr></tbody></table></div>"
      ],
      "text/latex": [
       "\\begin{tabular}{r|ccc}\n",
       "\t& W & H & M\\\\\n",
       "\t\\hline\n",
       "\t& Float64 & Int64 & String\\\\\n",
       "\t\\hline\n",
       "\t1 & 5.0 & 5 & Mike \\\\\n",
       "\\end{tabular}\n"
      ],
      "text/plain": [
       "\u001b[1m1×3 DataFrame\u001b[0m\n",
       "\u001b[1m Row \u001b[0m│\u001b[1m W       \u001b[0m\u001b[1m H     \u001b[0m\u001b[1m M      \u001b[0m\n",
       "\u001b[1m     \u001b[0m│\u001b[90m Float64 \u001b[0m\u001b[90m Int64 \u001b[0m\u001b[90m String \u001b[0m\n",
       "─────┼────────────────────────\n",
       "   1 │     5.0      5  Mike"
      ]
     },
     "execution_count": 6,
     "metadata": {},
     "output_type": "execute_result"
    }
   ],
   "source": [
    "#Note The data Types(float, int, string) are indicated when running code\n",
    "\n",
    "df = DataFrame(W=5.0, H=5, M=\"Mike\")"
   ]
  },
  {
   "cell_type": "code",
   "execution_count": 11,
   "id": "0203b91d",
   "metadata": {
    "scrolled": true
   },
   "outputs": [
    {
     "data": {
      "text/html": [
       "<div class=\"data-frame\"><p>15 rows × 3 columns</p><table class=\"data-frame\"><thead><tr><th></th><th>Names</th><th>Whole</th><th>Integers</th></tr><tr><th></th><th title=\"String\">String</th><th title=\"Int64\">Int64</th><th title=\"Int64\">Int64</th></tr></thead><tbody><tr><th>1</th><td>EDS</td><td>17107</td><td>4</td></tr><tr><th>2</th><td>FAMU</td><td>13204</td><td>14</td></tr><tr><th>3</th><td>FAU</td><td>25246</td><td>4</td></tr><tr><th>4</th><td>FGCU</td><td>12851</td><td>3</td></tr><tr><th>5</th><td>FIU</td><td>44616</td><td>9</td></tr><tr><th>6</th><td>FSU</td><td>41067</td><td>31</td></tr><tr><th>7</th><td>NCOF</td><td>845</td><td>1</td></tr><tr><th>8</th><td>PST</td><td>11531</td><td>3</td></tr><tr><th>9</th><td>SFC</td><td>15493</td><td>1</td></tr><tr><th>10</th><td>TCC</td><td>15090</td><td>2</td></tr><tr><th>11</th><td>UOCF</td><td>58465</td><td>26</td></tr><tr><th>12</th><td>UOF</td><td>49589</td><td>18</td></tr><tr><th>13</th><td>UNOF</td><td>16198</td><td>2</td></tr><tr><th>14</th><td>UOSF</td><td>4310</td><td>2</td></tr><tr><th>15</th><td>UOSF</td><td>11982</td><td>2</td></tr></tbody></table></div>"
      ],
      "text/latex": [
       "\\begin{tabular}{r|ccc}\n",
       "\t& Names & Whole & Integers\\\\\n",
       "\t\\hline\n",
       "\t& String & Int64 & Int64\\\\\n",
       "\t\\hline\n",
       "\t1 & EDS & 17107 & 4 \\\\\n",
       "\t2 & FAMU & 13204 & 14 \\\\\n",
       "\t3 & FAU & 25246 & 4 \\\\\n",
       "\t4 & FGCU & 12851 & 3 \\\\\n",
       "\t5 & FIU & 44616 & 9 \\\\\n",
       "\t6 & FSU & 41067 & 31 \\\\\n",
       "\t7 & NCOF & 845 & 1 \\\\\n",
       "\t8 & PST & 11531 & 3 \\\\\n",
       "\t9 & SFC & 15493 & 1 \\\\\n",
       "\t10 & TCC & 15090 & 2 \\\\\n",
       "\t11 & UOCF & 58465 & 26 \\\\\n",
       "\t12 & UOF & 49589 & 18 \\\\\n",
       "\t13 & UNOF & 16198 & 2 \\\\\n",
       "\t14 & UOSF & 4310 & 2 \\\\\n",
       "\t15 & UOSF & 11982 & 2 \\\\\n",
       "\\end{tabular}\n"
      ],
      "text/plain": [
       "\u001b[1m15×3 DataFrame\u001b[0m\n",
       "\u001b[1m Row \u001b[0m│\u001b[1m Names  \u001b[0m\u001b[1m Whole \u001b[0m\u001b[1m Integers \u001b[0m\n",
       "\u001b[1m     \u001b[0m│\u001b[90m String \u001b[0m\u001b[90m Int64 \u001b[0m\u001b[90m Int64    \u001b[0m\n",
       "─────┼─────────────────────────\n",
       "   1 │ EDS     17107         4\n",
       "   2 │ FAMU    13204        14\n",
       "   3 │ FAU     25246         4\n",
       "   4 │ FGCU    12851         3\n",
       "   5 │ FIU     44616         9\n",
       "   6 │ FSU     41067        31\n",
       "   7 │ NCOF      845         1\n",
       "   8 │ PST     11531         3\n",
       "   9 │ SFC     15493         1\n",
       "  10 │ TCC     15090         2\n",
       "  11 │ UOCF    58465        26\n",
       "  12 │ UOF     49589        18\n",
       "  13 │ UNOF    16198         2\n",
       "  14 │ UOSF     4310         2\n",
       "  15 │ UOSF    11982         2"
      ]
     },
     "execution_count": 11,
     "metadata": {},
     "output_type": "execute_result"
    }
   ],
   "source": [
    "#Note How the layout of the Data Frame is Set Up\n",
    "\n",
    "df = DataFrame(Names=[\"EDS\",\"FAMU\",\"FAU\",\"FGCU\",\"FIU\",\"FSU\",\"NCOF\",\"PST\",\"SFC\",\"TCC\",\"UOCF\",\"UOF\",\"UNOF\",\"UOSF\",\"UOSF\"], Whole=[17107, 13204, 25246, 12851, 44616, 41067,845, 11531,15493,15090, 58465, 49589, 16198, 4310, 11982], Integers=[4, 14, 4, 3, 9, 31, 1, 3,1,2, 26,18, 2,2,2])"
   ]
  },
  {
   "cell_type": "code",
   "execution_count": null,
   "id": "7bf88694",
   "metadata": {
    "scrolled": true
   },
   "outputs": [],
   "source": [
    "#You can indicated what type of data we are looking for\n",
    "\n",
    "df = DataFrame(Name=String[\"Bob\", \"Carl\", \"TT\"], Whole=Float64[5.5,6.3,7.5],Integers=Int64[8,5,4])"
   ]
  },
  {
   "cell_type": "code",
   "execution_count": null,
   "id": "56c6acc3",
   "metadata": {
    "scrolled": true
   },
   "outputs": [],
   "source": [
    "#This Wont Work, Why\n",
    "\n",
    "df = DataFrame(N=[S4, 45, 11], W=[\"Bob\", \"Carl\", \"TT\"], I=[8.3,5.6,4.7])"
   ]
  },
  {
   "cell_type": "markdown",
   "id": "e5f1e8e2",
   "metadata": {},
   "source": [
    "#### Activity 1: \n",
    "\n",
    "Compelte ACTIVITY 6.3: THE \"HOT HAND\" IN BASKETBALL\n",
    "And Fill out a Data Frame\n",
    "\n",
    "- Use the rand Function to get your 50 data points"
   ]
  },
  {
   "cell_type": "code",
   "execution_count": null,
   "id": "26377522",
   "metadata": {},
   "outputs": [],
   "source": [
    "x = (rand(1)+50;"
   ]
  },
  {
   "cell_type": "code",
   "execution_count": null,
   "id": "2f4f31ea",
   "metadata": {
    "scrolled": true
   },
   "outputs": [],
   "source": [
    "#make 50 data points random fl\n",
    "x = (rand()1) + 50;"
   ]
  },
  {
   "cell_type": "markdown",
   "id": "e6218700",
   "metadata": {},
   "source": [
    "#### Activity 2: \n",
    "\n",
    "And Fill out a Data Frame,\n",
    "- Include Names Data and Precent"
   ]
  },
  {
   "cell_type": "code",
   "execution_count": null,
   "id": "2632e494",
   "metadata": {
    "scrolled": true
   },
   "outputs": [],
   "source": [
    "Trials = DataFrame(Data = !PUT DATA HERE!)"
   ]
  }
 ],
 "metadata": {
  "kernelspec": {
   "display_name": "Julia nodeps 1.7.3",
   "language": "julia",
   "name": "julia-nodeps-1.7"
  },
  "language_info": {
   "file_extension": ".jl",
   "mimetype": "application/julia",
   "name": "julia",
   "version": "1.7.3"
  }
 },
 "nbformat": 4,
 "nbformat_minor": 5
}
