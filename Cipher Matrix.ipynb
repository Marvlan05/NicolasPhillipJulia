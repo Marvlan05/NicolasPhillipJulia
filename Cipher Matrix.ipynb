{
 "cells": [
  {
   "cell_type": "code",
   "execution_count": 17,
   "id": "882e204e",
   "metadata": {},
   "outputs": [
    {
     "data": {
      "text/plain": [
       "3×3 Matrix{Int64}:\n",
       " 20  17   8\n",
       " 10  11  19\n",
       " 16  13  21"
      ]
     },
     "execution_count": 17,
     "metadata": {},
     "output_type": "execute_result"
    }
   ],
   "source": [
    "#Original Matrix\n",
    "A = [20 17 8\n",
    "10 11 19\n",
    "16 13 21]"
   ]
  },
  {
   "cell_type": "code",
   "execution_count": 18,
   "id": "3f45a877",
   "metadata": {},
   "outputs": [
    {
     "data": {
      "text/plain": [
       "3×3 Matrix{Int64}:\n",
       " 19  16   9\n",
       "  4   5  18\n",
       " 13   1  14"
      ]
     },
     "execution_count": 18,
     "metadata": {},
     "output_type": "execute_result"
    }
   ],
   "source": [
    "#Random Matrix\n",
    "B = [19 16 9\n",
    "4 5 18\n",
    "13 1 14]"
   ]
  },
  {
   "cell_type": "code",
   "execution_count": 20,
   "id": "9a8d56b0",
   "metadata": {},
   "outputs": [
    {
     "data": {
      "text/plain": [
       "3×3 Matrix{Int64}:\n",
       " 552  413  598\n",
       " 481  234  554\n",
       " 629  342  672"
      ]
     },
     "execution_count": 20,
     "metadata": {},
     "output_type": "execute_result"
    }
   ],
   "source": [
    "#Scrambeled Matrix\n",
    "C = A*B"
   ]
  },
  {
   "cell_type": "code",
   "execution_count": 22,
   "id": "3910bf3c",
   "metadata": {},
   "outputs": [
    {
     "data": {
      "text/plain": [
       "3×3 Matrix{Float64}:\n",
       " -0.0175824  -0.278022    0.258242\n",
       "  0.103297    0.320879   -0.32967\n",
       " -0.0505495   0.0131868   0.0549451"
      ]
     },
     "execution_count": 22,
     "metadata": {},
     "output_type": "execute_result"
    }
   ],
   "source": [
    "#Inverse of A\n",
    "Ainv = inv(A)"
   ]
  },
  {
   "cell_type": "code",
   "execution_count": 23,
   "id": "3b42916c",
   "metadata": {},
   "outputs": [
    {
     "data": {
      "text/plain": [
       "3×3 Matrix{Float64}:\n",
       " 19.0  16.0   9.0\n",
       "  4.0   5.0  18.0\n",
       " 13.0   1.0  14.0"
      ]
     },
     "execution_count": 23,
     "metadata": {},
     "output_type": "execute_result"
    }
   ],
   "source": [
    "Ainv*C"
   ]
  },
  {
   "cell_type": "code",
   "execution_count": null,
   "id": "2e3a2dab",
   "metadata": {},
   "outputs": [],
   "source": [
    "#Letter Key\n",
    "1 = Z, 2 = Y, 3 = A, 4 = B, 5 = T, 6 = G, 7 = H, 8 = I, 9 = C, 10 = D, 11 = E, 12 = F, 13 = J, 14 = K, 15 = L, \n",
    "16 = M, 17 = P, 18 = Q, 19 = R, 20 = S, 21 = N, 22 = O, 23 = X, 24 = W, 25 = V, 26 = U "
   ]
  }
 ],
 "metadata": {
  "kernelspec": {
   "display_name": "Julia nodepsII 1.7.3",
   "language": "julia",
   "name": "julia-nodepsii-1.7"
  },
  "language_info": {
   "file_extension": ".jl",
   "mimetype": "application/julia",
   "name": "julia",
   "version": "1.7.3"
  }
 },
 "nbformat": 4,
 "nbformat_minor": 5
}
